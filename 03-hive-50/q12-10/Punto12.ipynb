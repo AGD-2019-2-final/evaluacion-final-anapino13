{
 "cells": [
  {
   "cell_type": "code",
   "execution_count": 1,
   "metadata": {},
   "outputs": [],
   "source": [
    "%load_ext bigdata"
   ]
  },
  {
   "cell_type": "code",
   "execution_count": 2,
   "metadata": {},
   "outputs": [],
   "source": [
    "%timeout 300"
   ]
  },
  {
   "cell_type": "code",
   "execution_count": 3,
   "metadata": {},
   "outputs": [
    {
     "name": "stdout",
     "output_type": "stream",
     "text": [
      "DROP TABLE IF EXISTS t0;\n",
      "OK\n",
      "Time taken: 9.247 seconds\n",
      "CREATE TABLE t0 (\n",
      "    c1 STRING,\n",
      "    c2 ARRAY<CHAR(1)>, \n",
      "    c3 MAP<STRING, INT>\n",
      "    )\n",
      "    ROW FORMAT DELIMITED \n",
      "        FIELDS TERMINATED BY '\\t'\n",
      "        COLLECTION ITEMS TERMINATED BY ','\n",
      "        MAP KEYS TERMINATED BY '#'\n",
      "        LINES TERMINATED BY '\\n';\n",
      "OK\n",
      "Time taken: 0.752 seconds\n",
      "LOAD DATA LOCAL INPATH 'data.tsv' INTO TABLE t0;\n",
      "Loading data to table default.t0\n",
      "OK\n",
      "Time taken: 1.498 seconds\n"
     ]
    }
   ],
   "source": [
    "%%hive\n",
    "DROP TABLE IF EXISTS t0;\n",
    "CREATE TABLE t0 (\n",
    "    c1 STRING,\n",
    "    c2 ARRAY<CHAR(1)>, \n",
    "    c3 MAP<STRING, INT>\n",
    "    )\n",
    "    ROW FORMAT DELIMITED \n",
    "        FIELDS TERMINATED BY '\\t'\n",
    "        COLLECTION ITEMS TERMINATED BY ','\n",
    "        MAP KEYS TERMINATED BY '#'\n",
    "        LINES TERMINATED BY '\\n';\n",
    "LOAD DATA LOCAL INPATH 'data.tsv' INTO TABLE t0;"
   ]
  },
  {
   "cell_type": "code",
   "execution_count": 4,
   "metadata": {},
   "outputs": [
    {
     "name": "stdout",
     "output_type": "stream",
     "text": [
      "DROP TABLE IF EXISTS data12;\n",
      "OK\n",
      "Time taken: 0.039 seconds\n",
      "CREATE TABLE data12 AS\n",
      "SELECT c,key\n",
      "FROM (SELECT c, c3\n",
      "FROM t0\n",
      "LATERAL VIEW explode(c2) c1 AS c) data12\n",
      "LATERAL VIEW\n",
      "explode(c3) data12 ;\n",
      "WARNING: Hive-on-MR is deprecated in Hive 2 and may not be available in the future versions. Consider using a different execution engine (i.e. spark, tez) or using Hive 1.X releases.\n",
      "Query ID = root_20200209224515_70573357-6105-40e8-876a-eca46c962c20\n",
      "Total jobs = 3\n",
      "Launching Job 1 out of 3\n",
      "Number of reduce tasks is set to 0 since there's no reduce operator\n",
      "Starting Job = job_1581286874431_0008, Tracking URL = http://100f26817f7e:8088/proxy/application_1581286874431_0008/\n",
      "Kill Command = /usr/local/hadoop/bin/hadoop job  -kill job_1581286874431_0008\n",
      "Hadoop job information for Stage-1: number of mappers: 1; number of reducers: 0\n",
      "2020-02-09 22:45:24,078 Stage-1 map = 0%,  reduce = 0%\n",
      "2020-02-09 22:45:28,540 Stage-1 map = 100%,  reduce = 0%, Cumulative CPU 1.5 sec\n",
      "MapReduce Total cumulative CPU time: 1 seconds 500 msec\n",
      "Ended Job = job_1581286874431_0008\n",
      "Stage-4 is selected by condition resolver.\n",
      "Stage-3 is filtered out by condition resolver.\n",
      "Stage-5 is filtered out by condition resolver.\n",
      "Moving data to directory hdfs://0.0.0.0:9000/user/hive/warehouse/.hive-staging_hive_2020-02-09_22-45-15_880_8708897907336459379-1/-ext-10001\n",
      "Moving data to directory hdfs://0.0.0.0:9000/user/hive/warehouse/data12\n",
      "MapReduce Jobs Launched: \n",
      "Stage-Stage-1: Map: 1   Cumulative CPU: 1.5 sec   HDFS Read: 7363 HDFS Write: 3073 SUCCESS\n",
      "Total MapReduce CPU Time Spent: 1 seconds 500 msec\n",
      "OK\n",
      "Time taken: 14.526 seconds\n",
      "INATED BY ','ITE LOCAL DIRECTORY 'output' ROW FORMAT DELIMITED FIELDS TERM \n",
      "(SELECT c, key, COUNT(*)\n",
      "FROM data12\n",
      "GROUP BY c, key);\n",
      "WARNING: Hive-on-MR is deprecated in Hive 2 and may not be available in the future versions. Consider using a different execution engine (i.e. spark, tez) or using Hive 1.X releases.\n",
      "Query ID = root_20200209224530_aed29a1f-06ec-4fb9-890b-3f221f92e8ce\n",
      "Total jobs = 1\n",
      "Launching Job 1 out of 1\n",
      "Number of reduce tasks not specified. Estimated from input data size: 1\n",
      "In order to change the average load for a reducer (in bytes):\n",
      "  set hive.exec.reducers.bytes.per.reducer=<number>\n",
      "In order to limit the maximum number of reducers:\n",
      "  set hive.exec.reducers.max=<number>\n",
      "In order to set a constant number of reducers:\n",
      "  set mapreduce.job.reduces=<number>\n",
      "Starting Job = job_1581286874431_0009, Tracking URL = http://100f26817f7e:8088/proxy/application_1581286874431_0009/\n",
      "Kill Command = /usr/local/hadoop/bin/hadoop job  -kill job_1581286874431_0009\n",
      "Hadoop job information for Stage-1: number of mappers: 1; number of reducers: 1\n",
      "2020-02-09 22:45:41,124 Stage-1 map = 0%,  reduce = 0%\n",
      "2020-02-09 22:45:45,491 Stage-1 map = 100%,  reduce = 0%, Cumulative CPU 1.99 sec\n",
      "2020-02-09 22:45:53,294 Stage-1 map = 100%,  reduce = 100%, Cumulative CPU 3.94 sec\n",
      "MapReduce Total cumulative CPU time: 3 seconds 940 msec\n",
      "Ended Job = job_1581286874431_0009\n",
      "Moving data to local directory output\n",
      "MapReduce Jobs Launched: \n",
      "Stage-Stage-1: Map: 1  Reduce: 1   Cumulative CPU: 3.94 sec   HDFS Read: 11240 HDFS Write: 573 SUCCESS\n",
      "Total MapReduce CPU Time Spent: 3 seconds 940 msec\n",
      "OK\n",
      "Time taken: 23.82 seconds\n"
     ]
    }
   ],
   "source": [
    "%%hive\n",
    "DROP TABLE IF EXISTS data12;\n",
    "CREATE TABLE data12 AS\n",
    "SELECT c,key\n",
    "FROM (SELECT c, c3\n",
    "FROM t0\n",
    "LATERAL VIEW explode(c2) c1 AS c) data12\n",
    "LATERAL VIEW\n",
    "explode(c3) data12 ;\n",
    "\n",
    "INSERT OVERWRITE LOCAL DIRECTORY 'output' ROW FORMAT DELIMITED FIELDS TERMINATED BY ','\n",
    "\n",
    "(SELECT c, key, COUNT(*)\n",
    "FROM data12\n",
    "GROUP BY c, key);"
   ]
  },
  {
   "cell_type": "code",
   "execution_count": 5,
   "metadata": {},
   "outputs": [],
   "source": [
    "%hive_quit"
   ]
  },
  {
   "cell_type": "code",
   "execution_count": null,
   "metadata": {},
   "outputs": [],
   "source": []
  }
 ],
 "metadata": {
  "kernelspec": {
   "display_name": "Python 3",
   "language": "python",
   "name": "python3"
  },
  "language_info": {
   "codemirror_mode": {
    "name": "ipython",
    "version": 3
   },
   "file_extension": ".py",
   "mimetype": "text/x-python",
   "name": "python",
   "nbconvert_exporter": "python",
   "pygments_lexer": "ipython3",
   "version": "3.6.9"
  }
 },
 "nbformat": 4,
 "nbformat_minor": 4
}
