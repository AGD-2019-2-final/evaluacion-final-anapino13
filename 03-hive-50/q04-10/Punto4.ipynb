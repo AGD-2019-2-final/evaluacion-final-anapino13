{
 "cells": [
  {
   "cell_type": "code",
   "execution_count": 4,
   "metadata": {},
   "outputs": [
    {
     "name": "stdout",
     "output_type": "stream",
     "text": [
      "The bigdata extension is already loaded. To reload it, use:\n",
      "  %reload_ext bigdata\n"
     ]
    }
   ],
   "source": [
    "%load_ext bigdata"
   ]
  },
  {
   "cell_type": "code",
   "execution_count": 5,
   "metadata": {},
   "outputs": [],
   "source": [
    "%timeout 300"
   ]
  },
  {
   "cell_type": "code",
   "execution_count": 8,
   "metadata": {},
   "outputs": [
    {
     "name": "stdout",
     "output_type": "stream",
     "text": [
      "DROP TABLE IF EXISTS tbl0;\n",
      "OK\n",
      "Time taken: 0.014 seconds\n",
      "CREATE TABLE tbl0 (\n",
      "    c1 INT,\n",
      "    c2 STRING,\n",
      "    c3 INT,\n",
      "    c4 DATE,\n",
      "    c5 ARRAY<CHAR(1)>, \n",
      "    c6 MAP<STRING, INT>\n",
      ")\n",
      "ROW FORMAT DELIMITED \n",
      "FIELDS TERMINATED BY ','\n",
      "COLLECTION ITEMS TERMINATED BY ':'\n",
      "MAP KEYS TERMINATED BY '#'\n",
      "LINES TERMINATED BY '\\n';\n",
      "OK\n",
      "Time taken: 0.83 seconds\n",
      "LOAD DATA LOCAL INPATH 'tbl0.csv' INTO TABLE tbl0;\n",
      "Loading data to table default.tbl0\n",
      "OK\n",
      "Time taken: 2.055 seconds\n",
      "--\n",
      "DROP TABLE IF EXISTS tbl1;\n",
      "OK\n",
      "Time taken: 0.013 seconds\n",
      "CREATE TABLE tbl1 (\n",
      "    c1 INT,\n",
      "    c2 INT,\n",
      "    c3 STRING,\n",
      "    c4 MAP<STRING, INT>\n",
      ")\n",
      "ROW FORMAT DELIMITED \n",
      "FIELDS TERMINATED BY ','\n",
      "COLLECTION ITEMS TERMINATED BY ':'\n",
      "MAP KEYS TERMINATED BY '#'\n",
      "LINES TERMINATED BY '\\n';\n",
      "OK\n",
      "Time taken: 0.076 seconds\n",
      "LOAD DATA LOCAL INPATH 'tbl1.csv' INTO TABLE tbl1;\n",
      "Loading data to table default.tbl1\n",
      "OK\n",
      "Time taken: 1.124 seconds\n"
     ]
    }
   ],
   "source": [
    "%%hive\n",
    "DROP TABLE IF EXISTS tbl0;\n",
    "CREATE TABLE tbl0 (\n",
    "    c1 INT,\n",
    "    c2 STRING,\n",
    "    c3 INT,\n",
    "    c4 DATE,\n",
    "    c5 ARRAY<CHAR(1)>, \n",
    "    c6 MAP<STRING, INT>\n",
    ")\n",
    "ROW FORMAT DELIMITED \n",
    "FIELDS TERMINATED BY ','\n",
    "COLLECTION ITEMS TERMINATED BY ':'\n",
    "MAP KEYS TERMINATED BY '#'\n",
    "LINES TERMINATED BY '\\n';\n",
    "LOAD DATA LOCAL INPATH 'tbl0.csv' INTO TABLE tbl0;\n",
    "--\n",
    "DROP TABLE IF EXISTS tbl1;\n",
    "CREATE TABLE tbl1 (\n",
    "    c1 INT,\n",
    "    c2 INT,\n",
    "    c3 STRING,\n",
    "    c4 MAP<STRING, INT>\n",
    ")\n",
    "ROW FORMAT DELIMITED \n",
    "FIELDS TERMINATED BY ','\n",
    "COLLECTION ITEMS TERMINATED BY ':'\n",
    "MAP KEYS TERMINATED BY '#'\n",
    "LINES TERMINATED BY '\\n';\n",
    "LOAD DATA LOCAL INPATH 'tbl1.csv' INTO TABLE tbl1;"
   ]
  },
  {
   "cell_type": "code",
   "execution_count": 9,
   "metadata": {},
   "outputs": [
    {
     "name": "stdout",
     "output_type": "stream",
     "text": [
      "INSERT OVERWRITE LOCAL DIRECTORY 'output'\n",
      "(SELECT DISTINCT c0 FROM tbl0\n",
      "LATERAL VIEW\n",
      "    explode(c5) c1 AS c0\n",
      "ORDER BY c0);\n",
      "WARNING: Hive-on-MR is deprecated in Hive 2 and may not be available in the future versions. Consider using a different execution engine (i.e. spark, tez) or using Hive 1.X releases.\n",
      "Query ID = root_20200209204020_9d6d871c-29d6-4b3f-86ec-03e60be8dd60\n",
      "Total jobs = 2\n",
      "Launching Job 1 out of 2\n",
      "Number of reduce tasks not specified. Estimated from input data size: 1\n",
      "In order to change the average load for a reducer (in bytes):\n",
      "  set hive.exec.reducers.bytes.per.reducer=<number>\n",
      "In order to limit the maximum number of reducers:\n",
      "  set hive.exec.reducers.max=<number>\n",
      "In order to set a constant number of reducers:\n",
      "  set mapreduce.job.reduces=<number>\n",
      "Starting Job = job_1581280496790_0001, Tracking URL = http://73af97e746ec:8088/proxy/application_1581280496790_0001/\n",
      "Kill Command = /usr/local/hadoop/bin/hadoop job  -kill job_1581280496790_0001\n",
      "Hadoop job information for Stage-1: number of mappers: 1; number of reducers: 1\n",
      "2020-02-09 20:40:32,109 Stage-1 map = 0%,  reduce = 0%\n",
      "2020-02-09 20:40:36,659 Stage-1 map = 100%,  reduce = 0%, Cumulative CPU 1.4 sec\n",
      "2020-02-09 20:40:41,103 Stage-1 map = 100%,  reduce = 100%, Cumulative CPU 2.9 sec\n",
      "MapReduce Total cumulative CPU time: 2 seconds 900 msec\n",
      "Ended Job = job_1581280496790_0001\n",
      "Launching Job 2 out of 2\n",
      "Number of reduce tasks determined at compile time: 1\n",
      "In order to change the average load for a reducer (in bytes):\n",
      "  set hive.exec.reducers.bytes.per.reducer=<number>\n",
      "In order to limit the maximum number of reducers:\n",
      "  set hive.exec.reducers.max=<number>\n",
      "In order to set a constant number of reducers:\n",
      "  set mapreduce.job.reduces=<number>\n",
      "Starting Job = job_1581280496790_0002, Tracking URL = http://73af97e746ec:8088/proxy/application_1581280496790_0002/\n",
      "Kill Command = /usr/local/hadoop/bin/hadoop job  -kill job_1581280496790_0002\n",
      "Hadoop job information for Stage-2: number of mappers: 1; number of reducers: 1\n",
      "2020-02-09 20:40:54,826 Stage-2 map = 0%,  reduce = 0%\n",
      "2020-02-09 20:40:59,231 Stage-2 map = 100%,  reduce = 0%, Cumulative CPU 0.92 sec\n",
      "2020-02-09 20:41:05,076 Stage-2 map = 100%,  reduce = 100%, Cumulative CPU 1.99 sec\n",
      "MapReduce Total cumulative CPU time: 1 seconds 990 msec\n",
      "Ended Job = job_1581280496790_0002\n",
      "Moving data to local directory output\n",
      "MapReduce Jobs Launched: \n",
      "Stage-Stage-1: Map: 1  Reduce: 1   Cumulative CPU: 2.9 sec   HDFS Read: 10524 HDFS Write: 191 SUCCESS\n",
      "Stage-Stage-2: Map: 1  Reduce: 1   Cumulative CPU: 1.99 sec   HDFS Read: 4604 HDFS Write: 10 SUCCESS\n",
      "Total MapReduce CPU Time Spent: 4 seconds 890 msec\n",
      "OK\n",
      "Time taken: 46.63 seconds\n"
     ]
    }
   ],
   "source": [
    "%%hive\n",
    "INSERT OVERWRITE LOCAL DIRECTORY 'output'\n",
    "(SELECT DISTINCT c0 FROM tbl0\n",
    "LATERAL VIEW\n",
    "    explode(c5) c1 AS c0\n",
    "ORDER BY c0);"
   ]
  },
  {
   "cell_type": "code",
   "execution_count": null,
   "metadata": {},
   "outputs": [],
   "source": []
  }
 ],
 "metadata": {
  "kernelspec": {
   "display_name": "Python 3",
   "language": "python",
   "name": "python3"
  },
  "language_info": {
   "codemirror_mode": {
    "name": "ipython",
    "version": 3
   },
   "file_extension": ".py",
   "mimetype": "text/x-python",
   "name": "python",
   "nbconvert_exporter": "python",
   "pygments_lexer": "ipython3",
   "version": "3.6.9"
  }
 },
 "nbformat": 4,
 "nbformat_minor": 4
}
