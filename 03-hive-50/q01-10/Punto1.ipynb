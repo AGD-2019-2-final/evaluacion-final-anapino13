{
 "cells": [
  {
   "cell_type": "code",
   "execution_count": 1,
   "metadata": {},
   "outputs": [],
   "source": [
    "%load_ext bigdata"
   ]
  },
  {
   "cell_type": "code",
   "execution_count": 2,
   "metadata": {},
   "outputs": [],
   "source": [
    "%timeout 300"
   ]
  },
  {
   "cell_type": "code",
   "execution_count": 3,
   "metadata": {},
   "outputs": [
    {
     "name": "stdout",
     "output_type": "stream",
     "text": [
      "CREATE DATABASE IF NOT EXISTS data_tsv;\n",
      "OK\n",
      "Time taken: 19.972 seconds\n",
      "CREATE TABLE data_tsv (letra    STRING,\n",
      "                       fecha    STRING,\n",
      "                       cantidad INT)\n",
      "ROW FORMAT DELIMITED\n",
      "FIELDS TERMINATED BY '\\t';\n",
      "OK\n",
      "Time taken: 1.422 seconds\n",
      "LOAD DATA LOCAL INPATH \"data.tsv\" OVERWRITE INTO TABLE data_tsv;\n",
      "Loading data to table default.data_tsv\n",
      "OK\n",
      "Time taken: 3.371 seconds\n",
      "INSERT OVERWRITE LOCAL DIRECTORY 'output'\n",
      "ROW FORMAT DELIMITED\n",
      "FIELDS TERMINATED BY ','\n",
      "STORED AS TEXTFILE\n",
      "SELECT letra, COUNT(*) FROM data_tsv\n",
      "GROUP BY letra;\n",
      "WARNING: Hive-on-MR is deprecated in Hive 2 and may not be available in the future versions. Consider using a different execution engine (i.e. spark, tez) or using Hive 1.X releases.\n",
      "Query ID = root_20200208213531_1a514565-943f-40a9-ac3d-e13addd1e62b\n",
      "Total jobs = 1\n",
      "Launching Job 1 out of 1\n",
      "Number of reduce tasks not specified. Estimated from input data size: 1\n",
      "In order to change the average load for a reducer (in bytes):\n",
      "  set hive.exec.reducers.bytes.per.reducer=<number>\n",
      "In order to limit the maximum number of reducers:\n",
      "  set hive.exec.reducers.max=<number>\n",
      "In order to set a constant number of reducers:\n",
      "  set mapreduce.job.reduces=<number>\n",
      "Starting Job = job_1581196992976_0001, Tracking URL = http://bc51a1a9f1ba:8088/proxy/application_1581196992976_0001/\n",
      "Kill Command = /usr/local/hadoop/bin/hadoop job  -kill job_1581196992976_0001\n",
      "Hadoop job information for Stage-1: number of mappers: 1; number of reducers: 1\n",
      "2020-02-08 21:35:58,172 Stage-1 map = 0%,  reduce = 0%\n",
      "2020-02-08 21:36:09,011 Stage-1 map = 100%,  reduce = 0%, Cumulative CPU 2.69 sec\n",
      "2020-02-08 21:36:18,320 Stage-1 map = 100%,  reduce = 100%, Cumulative CPU 5.23 sec\n",
      "MapReduce Total cumulative CPU time: 5 seconds 230 msec\n",
      "Ended Job = job_1581196992976_0001\n",
      "Moving data to local directory output\n",
      "MapReduce Jobs Launched: \n",
      "Stage-Stage-1: Map: 1  Reduce: 1   Cumulative CPU: 5.23 sec   HDFS Read: 8326 HDFS Write: 23 SUCCESS\n",
      "Total MapReduce CPU Time Spent: 5 seconds 230 msec\n",
      "OK\n",
      "Time taken: 49.403 seconds\n"
     ]
    }
   ],
   "source": [
    "%%hive\n",
    "CREATE DATABASE IF NOT EXISTS data_tsv;\n",
    "\n",
    "CREATE TABLE data_tsv (letra    STRING,\n",
    "                       fecha    STRING,\n",
    "                       cantidad INT)\n",
    "ROW FORMAT DELIMITED\n",
    "FIELDS TERMINATED BY '\\t';\n",
    "\n",
    "LOAD DATA LOCAL INPATH \"data.tsv\" OVERWRITE INTO TABLE data_tsv;\n",
    "\n",
    "\n",
    "INSERT OVERWRITE LOCAL DIRECTORY 'output'\n",
    "ROW FORMAT DELIMITED\n",
    "FIELDS TERMINATED BY ','\n",
    "STORED AS TEXTFILE\n",
    "\n",
    "SELECT letra, COUNT(*) FROM data_tsv\n",
    "GROUP BY letra;"
   ]
  },
  {
   "cell_type": "code",
   "execution_count": null,
   "metadata": {},
   "outputs": [],
   "source": []
  }
 ],
 "metadata": {
  "kernelspec": {
   "display_name": "Python 3",
   "language": "python",
   "name": "python3"
  },
  "language_info": {
   "codemirror_mode": {
    "name": "ipython",
    "version": 3
   },
   "file_extension": ".py",
   "mimetype": "text/x-python",
   "name": "python",
   "nbconvert_exporter": "python",
   "pygments_lexer": "ipython3",
   "version": "3.6.9"
  }
 },
 "nbformat": 4,
 "nbformat_minor": 4
}
