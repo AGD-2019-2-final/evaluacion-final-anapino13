{
 "cells": [
  {
   "cell_type": "code",
   "execution_count": 1,
   "metadata": {},
   "outputs": [],
   "source": [
    "%load_ext bigdata"
   ]
  },
  {
   "cell_type": "code",
   "execution_count": 2,
   "metadata": {},
   "outputs": [],
   "source": [
    "%timeout 300"
   ]
  },
  {
   "cell_type": "code",
   "execution_count": 3,
   "metadata": {},
   "outputs": [
    {
     "name": "stdout",
     "output_type": "stream",
     "text": [
      "DROP TABLE IF EXISTS data3;\n",
      "OK\n",
      "Time taken: 9.766 seconds\n",
      "CREATE TABLE data3 (letra    STRING,\n",
      "                       fecha    STRING,\n",
      "                       cantidad INT)\n",
      "ROW FORMAT DELIMITED\n",
      "FIELDS TERMINATED BY '\\t';\n",
      "OK\n",
      "Time taken: 1.19 seconds\n",
      "LOAD DATA LOCAL INPATH \"data.tsv\" OVERWRITE INTO TABLE data3;\n",
      "Loading data to table default.data3\n",
      "OK\n",
      "Time taken: 2.077 seconds\n",
      "INSERT OVERWRITE LOCAL DIRECTORY 'output'\n",
      "ROW FORMAT DELIMITED\n",
      "FIELDS TERMINATED BY ','\n",
      "STORED AS TEXTFILE\n",
      "SELECT cantidad FROM data3\n",
      "GROUP BY cantidad\n",
      "ORDER BY cantidad\n",
      "LIMIT 5;\n",
      "WARNING: Hive-on-MR is deprecated in Hive 2 and may not be available in the future versions. Consider using a different execution engine (i.e. spark, tez) or using Hive 1.X releases.\n",
      "Query ID = root_20200209195831_0593a6a8-f3c4-4281-bce9-89ebc1f47cf1\n",
      "Total jobs = 2\n",
      "Launching Job 1 out of 2\n",
      "Number of reduce tasks not specified. Estimated from input data size: 1\n",
      "In order to change the average load for a reducer (in bytes):\n",
      "  set hive.exec.reducers.bytes.per.reducer=<number>\n",
      "In order to limit the maximum number of reducers:\n",
      "  set hive.exec.reducers.max=<number>\n",
      "In order to set a constant number of reducers:\n",
      "  set mapreduce.job.reduces=<number>\n",
      "Starting Job = job_1581277852255_0001, Tracking URL = http://56d623de4c5c:8088/proxy/application_1581277852255_0001/\n",
      "Kill Command = /usr/local/hadoop/bin/hadoop job  -kill job_1581277852255_0001\n",
      "Hadoop job information for Stage-1: number of mappers: 1; number of reducers: 1\n",
      "2020-02-09 19:58:46,100 Stage-1 map = 0%,  reduce = 0%\n",
      "2020-02-09 19:58:52,810 Stage-1 map = 100%,  reduce = 0%, Cumulative CPU 1.48 sec\n",
      "2020-02-09 19:58:59,455 Stage-1 map = 100%,  reduce = 100%, Cumulative CPU 2.58 sec\n",
      "MapReduce Total cumulative CPU time: 2 seconds 580 msec\n",
      "Ended Job = job_1581277852255_0001\n",
      "Launching Job 2 out of 2\n",
      "Number of reduce tasks determined at compile time: 1\n",
      "In order to change the average load for a reducer (in bytes):\n",
      "  set hive.exec.reducers.bytes.per.reducer=<number>\n",
      "In order to limit the maximum number of reducers:\n",
      "  set hive.exec.reducers.max=<number>\n",
      "In order to set a constant number of reducers:\n",
      "  set mapreduce.job.reduces=<number>\n",
      "Starting Job = job_1581277852255_0002, Tracking URL = http://56d623de4c5c:8088/proxy/application_1581277852255_0002/\n",
      "Kill Command = /usr/local/hadoop/bin/hadoop job  -kill job_1581277852255_0002\n",
      "Hadoop job information for Stage-2: number of mappers: 1; number of reducers: 1\n",
      "2020-02-09 19:59:12,404 Stage-2 map = 0%,  reduce = 0%\n",
      "2020-02-09 19:59:17,864 Stage-2 map = 100%,  reduce = 0%, Cumulative CPU 1.32 sec\n",
      "2020-02-09 19:59:23,396 Stage-2 map = 100%,  reduce = 100%, Cumulative CPU 2.56 sec\n",
      "MapReduce Total cumulative CPU time: 2 seconds 560 msec\n",
      "Ended Job = job_1581277852255_0002\n",
      "Moving data to local directory output\n",
      "MapReduce Jobs Launched: \n",
      "Stage-Stage-1: Map: 1  Reduce: 1   Cumulative CPU: 2.58 sec   HDFS Read: 7318 HDFS Write: 186 SUCCESS\n",
      "Stage-Stage-2: Map: 1  Reduce: 1   Cumulative CPU: 2.56 sec   HDFS Read: 4766 HDFS Write: 12 SUCCESS\n",
      "Total MapReduce CPU Time Spent: 5 seconds 140 msec\n",
      "OK\n",
      "Time taken: 54.969 seconds\n"
     ]
    }
   ],
   "source": [
    "%%hive\n",
    "DROP TABLE IF EXISTS data3;\n",
    "\n",
    "CREATE TABLE data3 (letra    STRING,\n",
    "                       fecha    STRING,\n",
    "                       cantidad INT)\n",
    "ROW FORMAT DELIMITED\n",
    "FIELDS TERMINATED BY '\\t';\n",
    "\n",
    "LOAD DATA LOCAL INPATH \"data.tsv\" OVERWRITE INTO TABLE data3;\n",
    "\n",
    "\n",
    "INSERT OVERWRITE LOCAL DIRECTORY 'output'\n",
    "ROW FORMAT DELIMITED\n",
    "FIELDS TERMINATED BY ','\n",
    "STORED AS TEXTFILE\n",
    "\n",
    "SELECT cantidad FROM data3\n",
    "GROUP BY cantidad\n",
    "ORDER BY cantidad\n",
    "LIMIT 5;"
   ]
  },
  {
   "cell_type": "code",
   "execution_count": null,
   "metadata": {},
   "outputs": [],
   "source": []
  }
 ],
 "metadata": {
  "kernelspec": {
   "display_name": "Python 3",
   "language": "python",
   "name": "python3"
  },
  "language_info": {
   "codemirror_mode": {
    "name": "ipython",
    "version": 3
   },
   "file_extension": ".py",
   "mimetype": "text/x-python",
   "name": "python",
   "nbconvert_exporter": "python",
   "pygments_lexer": "ipython3",
   "version": "3.6.9"
  }
 },
 "nbformat": 4,
 "nbformat_minor": 4
}
