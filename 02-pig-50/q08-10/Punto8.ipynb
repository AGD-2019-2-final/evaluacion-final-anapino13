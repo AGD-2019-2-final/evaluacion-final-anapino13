{
 "cells": [
  {
   "cell_type": "code",
   "execution_count": 2,
   "metadata": {},
   "outputs": [],
   "source": [
    "%load_ext bigdata"
   ]
  },
  {
   "cell_type": "code",
   "execution_count": 3,
   "metadata": {},
   "outputs": [
    {
     "name": "stdout",
     "output_type": "stream",
     "text": [
      "The bigdata extension is already loaded. To reload it, use:\n",
      "  %reload_ext bigdata\n"
     ]
    }
   ],
   "source": [
    "%pig_start"
   ]
  },
  {
   "cell_type": "code",
   "execution_count": 4,
   "metadata": {},
   "outputs": [],
   "source": [
    "%timeout 300"
   ]
  },
  {
   "cell_type": "code",
   "execution_count": null,
   "metadata": {},
   "outputs": [
    {
     "name": "stdout",
     "output_type": "stream",
     "text": [
      " fs -rm output/*\n",
      "Deleted output/_SUCCESS\n",
      "Deleted output/part-r-00000\n",
      " fs -rmdir  output\n",
      " fs -rm -f -r data.tsv\n",
      "Deleted data.tsv\n",
      " fs -put data.tsv\n",
      " u= LOAD 'data.tsv' USING PigStorage() AS (\n",
      "    f1:CHARARRAY,\n",
      "    f2:BAG{t: TUPLE()},\n",
      "    f3:MAP[]\n",
      ");\n",
      " dato = FOREACH u GENERATE FLATTEN(f2) AS f2, FLATTEN(f3) AS f3;\n",
      " grupo = GROUP dato BY (f2, f3);\n",
      " contar = FOREACH grupo GENERATE group, COUNT(dato);\n"
     ]
    }
   ],
   "source": [
    "%%pig\n",
    "fs -rm output/*\n",
    "fs -rmdir  output\n",
    "fs -rm -f -r data.tsv\n",
    "fs -put data.tsv\n",
    "\n",
    "u= LOAD 'data.tsv' USING PigStorage() AS (\n",
    "    f1:CHARARRAY,\n",
    "    f2:BAG{t: TUPLE()},\n",
    "    f3:MAP[]\n",
    ");\n",
    "\n",
    "dato = FOREACH u GENERATE FLATTEN(f2) AS f2, FLATTEN(f3) AS f3;\n",
    "\n",
    "grupo = GROUP dato BY (f2, f3);\n",
    "\n",
    "contar = FOREACH grupo GENERATE group, COUNT(dato);\n",
    "\n",
    "STORE contar into 'output' using PigStorage('\\t');\n",
    "\n",
    "fs -copyToLocal output"
   ]
  },
  {
   "cell_type": "code",
   "execution_count": null,
   "metadata": {},
   "outputs": [],
   "source": []
  }
 ],
 "metadata": {
  "kernelspec": {
   "display_name": "Python 3",
   "language": "python",
   "name": "python3"
  },
  "language_info": {
   "codemirror_mode": {
    "name": "ipython",
    "version": 3
   },
   "file_extension": ".py",
   "mimetype": "text/x-python",
   "name": "python",
   "nbconvert_exporter": "python",
   "pygments_lexer": "ipython3",
   "version": "3.6.8"
  }
 },
 "nbformat": 4,
 "nbformat_minor": 4
}
