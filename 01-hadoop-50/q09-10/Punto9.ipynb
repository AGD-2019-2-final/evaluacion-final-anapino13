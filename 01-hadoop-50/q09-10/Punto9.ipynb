{
 "cells": [
  {
   "cell_type": "code",
   "execution_count": 22,
   "metadata": {},
   "outputs": [
    {
     "name": "stdout",
     "output_type": "stream",
     "text": [
      "Overwriting mapper.py\n"
     ]
    }
   ],
   "source": [
    "%%writefile mapper.py\n",
    "import sys\n",
    "if __name__ == \"__main__\":\n",
    "    for line in sys.stdin:\n",
    "      columna = line.split()[0]\n",
    "      columna1 = line.split()[1]\n",
    "      columna2 = line.split()[2]\n",
    "      columna2=columna2.zfill(3)\n",
    "      sys.stdout.write(\"{}\\t{}\\t{}\\t{}\\n\".format(columna2, columna, columna1, int(columna2)))"
   ]
  },
  {
   "cell_type": "code",
   "execution_count": 23,
   "metadata": {},
   "outputs": [
    {
     "name": "stdout",
     "output_type": "stream",
     "text": [
      "Overwriting reducer.py\n"
     ]
    }
   ],
   "source": [
    "%%writefile reducer.py\n",
    "import sys\n",
    "if __name__ == '__main__':\n",
    "    curkey = None\n",
    "    n = 0\n",
    "    for line in sys.stdin:\n",
    "        if n < 6:\n",
    "            texto,key,fecha,val = line.split(\"\\t\")\n",
    "            sys.stdout.write(\"{}\\t{}\\t{}\\n\".format(key,fecha,val))\n",
    "            n += 1"
   ]
  },
  {
   "cell_type": "code",
   "execution_count": 24,
   "metadata": {},
   "outputs": [
    {
     "name": "stdout",
     "output_type": "stream",
     "text": [
      "C\t1994-07-27\t1\n",
      "\n",
      "C\t1991-02-12\t2\n",
      "\n",
      "A\t1990-07-22\t4\n",
      "\n",
      "A\t1990-09-26\t5\n",
      "\n",
      "B\t1997-04-09\t6\n",
      "\n",
      "E\t1998-09-14\t7\n",
      "\n"
     ]
    }
   ],
   "source": [
    "!cat data.csv | python3 mapper.py | sort |  python3 reducer.py"
   ]
  },
  {
   "cell_type": "code",
   "execution_count": null,
   "metadata": {},
   "outputs": [],
   "source": []
  },
  {
   "cell_type": "code",
   "execution_count": null,
   "metadata": {},
   "outputs": [],
   "source": []
  }
 ],
 "metadata": {
  "kernelspec": {
   "display_name": "Python 3",
   "language": "python",
   "name": "python3"
  },
  "language_info": {
   "codemirror_mode": {
    "name": "ipython",
    "version": 3
   },
   "file_extension": ".py",
   "mimetype": "text/x-python",
   "name": "python",
   "nbconvert_exporter": "python",
   "pygments_lexer": "ipython3",
   "version": "3.6.9"
  }
 },
 "nbformat": 4,
 "nbformat_minor": 4
}
