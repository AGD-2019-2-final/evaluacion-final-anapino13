{
 "cells": [
  {
   "cell_type": "code",
   "execution_count": 1,
   "metadata": {},
   "outputs": [
    {
     "name": "stdout",
     "output_type": "stream",
     "text": [
      "Overwriting mapper.py\n"
     ]
    }
   ],
   "source": [
    "%%writefile mapper.py\n",
    "import sys\n",
    "if __name__ == \"__main__\":\n",
    "    for line in sys.stdin:\n",
    "        columna1 = line.split(\"   \")[0]\n",
    "        columna2 = line.split(\"   \")[2]\n",
    "        sys.stdout.write(\"{}\\t{}\".format(columna1,columna2))"
   ]
  },
  {
   "cell_type": "code",
   "execution_count": 8,
   "metadata": {},
   "outputs": [
    {
     "name": "stdout",
     "output_type": "stream",
     "text": [
      "Overwriting reducer.py\n"
     ]
    }
   ],
   "source": [
    "%%writefile reducer.py\n",
    "import sys\n",
    "if __name__ == '__main__':\n",
    "\n",
    "    curkey = None\n",
    "    minimo = 0\n",
    "    maximo = 0\n",
    "    \n",
    "    for line in sys.stdin:\n",
    "        key, val = line.split(\"\\t\")\n",
    "        val = float(val)\n",
    "        if key == curkey:\n",
    "            if(val < minimo):\n",
    "                minino = val\n",
    "            if(val > maximo):\n",
    "                maximo = val            \n",
    "        else:\n",
    "            if curkey is not None:\n",
    "                sys.stdout.write(\"{}\\t{}\\t{}\\n\".format(curkey, maximo, minimo))\n",
    "            curkey = key\n",
    "            minimo = val\n",
    "            maximo = val\n",
    "    sys.stdout.write(\"{}\\t{}\\t{}\\n\".format(curkey, maximo, minimo))"
   ]
  },
  {
   "cell_type": "code",
   "execution_count": 9,
   "metadata": {},
   "outputs": [
    {
     "name": "stdout",
     "output_type": "stream",
     "text": [
      "A\t18.4\t10.7\n",
      "B\t17.0\t10.7\n",
      "C\t15.3\t10.2\n",
      "D\t15.1\t15.1\n",
      "E\t18.8\t10.5\n"
     ]
    }
   ],
   "source": [
    "!cat data.csv | python3 mapper.py | sort |  python3 reducer.py"
   ]
  },
  {
   "cell_type": "code",
   "execution_count": null,
   "metadata": {},
   "outputs": [],
   "source": []
  }
 ],
 "metadata": {
  "kernelspec": {
   "display_name": "Python 3",
   "language": "python",
   "name": "python3"
  },
  "language_info": {
   "codemirror_mode": {
    "name": "ipython",
    "version": 3
   },
   "file_extension": ".py",
   "mimetype": "text/x-python",
   "name": "python",
   "nbconvert_exporter": "python",
   "pygments_lexer": "ipython3",
   "version": "3.6.9"
  }
 },
 "nbformat": 4,
 "nbformat_minor": 4
}
