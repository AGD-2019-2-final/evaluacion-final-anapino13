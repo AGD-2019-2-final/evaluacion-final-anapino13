{
 "cells": [
  {
   "cell_type": "code",
   "execution_count": 1,
   "metadata": {},
   "outputs": [
    {
     "name": "stdout",
     "output_type": "stream",
     "text": [
      "Overwriting mapper.py\n"
     ]
    }
   ],
   "source": [
    "%%writefile mapper.py\n",
    "import sys\n",
    "if __name__ == \"__main__\":\n",
    "    for line in sys.stdin:\n",
    "        columna1 = line.split(',')[3]\n",
    "        columna2 = line.split(',')[4]\n",
    "        sys.stdout.write(\"{}\\t{}\\n\".format(columna1,columna2))"
   ]
  },
  {
   "cell_type": "code",
   "execution_count": 2,
   "metadata": {},
   "outputs": [
    {
     "name": "stdout",
     "output_type": "stream",
     "text": [
      "Overwriting reducer.py\n"
     ]
    }
   ],
   "source": [
    "%%writefile reducer.py\n",
    "import sys\n",
    "#\n",
    "# >>> Escriba el codigo del mapper a partir de este punto <<<\n",
    "if __name__ == '__main__':\n",
    "    curkey = None\n",
    "    total = 0\n",
    "    for line in sys.stdin:\n",
    "        key, val = line.split(\"\\t\")\n",
    "        val = int(val)\n",
    "        if total == None:\n",
    "          total = val\n",
    "        if key == curkey:\n",
    "            total = max(val,total)\n",
    "        else:\n",
    "             if curkey is not None:\n",
    "                sys.stdout.write(\"{}\\t{}\\n\".format(curkey, total))\n",
    "             curkey = key\n",
    "             total = val  \n",
    "    sys.stdout.write(\"{}\\t{}\\n\".format(curkey, total))  "
   ]
  },
  {
   "cell_type": "code",
   "execution_count": 3,
   "metadata": {},
   "outputs": [
    {
     "name": "stdout",
     "output_type": "stream",
     "text": [
      "business\t15945\n",
      "car (new)\t14896\n",
      "car (used)\t12976\n",
      "domestic appliances\t3990\n",
      "education\t12612\n",
      "furniture\t14179\n",
      "others\t18424\n",
      "radio/tv\t15653\n",
      "repairs\t11998\n",
      "retraining\t3447\n"
     ]
    }
   ],
   "source": [
    "!cat credit.csv | python3 mapper.py | sort | python3 reducer.py"
   ]
  },
  {
   "cell_type": "code",
   "execution_count": null,
   "metadata": {},
   "outputs": [],
   "source": []
  }
 ],
 "metadata": {
  "kernelspec": {
   "display_name": "Python 3",
   "language": "python",
   "name": "python3"
  },
  "language_info": {
   "codemirror_mode": {
    "name": "ipython",
    "version": 3
   },
   "file_extension": ".py",
   "mimetype": "text/x-python",
   "name": "python",
   "nbconvert_exporter": "python",
   "pygments_lexer": "ipython3",
   "version": "3.6.9"
  }
 },
 "nbformat": 4,
 "nbformat_minor": 4
}
