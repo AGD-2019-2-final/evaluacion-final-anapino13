{
 "cells": [
  {
   "cell_type": "code",
   "execution_count": 1,
   "metadata": {},
   "outputs": [
    {
     "name": "stdout",
     "output_type": "stream",
     "text": [
      "Overwriting mapper.py\n"
     ]
    }
   ],
   "source": [
    "%%writefile mapper.py\n",
    "import sys\n",
    "if __name__ == \"__main__\":\n",
    "    for line in sys.stdin:\n",
    "        registro = (line.split(\"   \")[1]).split(\"-\")[1]\n",
    "        sys.stdout.write(\"{}\\t1\\n\".format(registro))"
   ]
  },
  {
   "cell_type": "code",
   "execution_count": 2,
   "metadata": {},
   "outputs": [
    {
     "name": "stdout",
     "output_type": "stream",
     "text": [
      "Overwriting reducer.py\n"
     ]
    }
   ],
   "source": [
    "%%writefile reducer.py\n",
    "import sys\n",
    "\n",
    "if __name__ == '__main__':\n",
    "\n",
    "    curkey = None\n",
    "    total = 0\n",
    "\n",
    "    for line in sys.stdin:\n",
    "\n",
    "        key, val = line.split(\"\\t\")\n",
    "        val = int(val)\n",
    "        if key == curkey:\n",
    "            total += val\n",
    "        else:\n",
    "            if curkey is not None:\n",
    "                sys.stdout.write(\"{}\\t{}\\n\".format(curkey, total))\n",
    "\n",
    "            curkey = key\n",
    "            total = val\n",
    "    sys.stdout.write(\"{}\\t{}\\n\".format(curkey, total))"
   ]
  },
  {
   "cell_type": "code",
   "execution_count": 3,
   "metadata": {},
   "outputs": [
    {
     "name": "stdout",
     "output_type": "stream",
     "text": [
      "01\t4\n",
      "02\t5\n",
      "03\t1\n",
      "04\t3\n",
      "05\t2\n",
      "06\t1\n",
      "07\t3\n",
      "08\t5\n",
      "09\t7\n",
      "10\t5\n",
      "11\t1\n",
      "12\t3\n"
     ]
    }
   ],
   "source": [
    "!cat data.csv | python3 mapper.py | sort |  python3 reducer.py"
   ]
  }
 ],
 "metadata": {
  "kernelspec": {
   "display_name": "Python 3",
   "language": "python",
   "name": "python3"
  },
  "language_info": {
   "codemirror_mode": {
    "name": "ipython",
    "version": 3
   },
   "file_extension": ".py",
   "mimetype": "text/x-python",
   "name": "python",
   "nbconvert_exporter": "python",
   "pygments_lexer": "ipython3",
   "version": "3.6.9"
  }
 },
 "nbformat": 4,
 "nbformat_minor": 4
}
